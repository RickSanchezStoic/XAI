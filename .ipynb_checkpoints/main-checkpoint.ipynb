{
 "cells": [
  {
   "cell_type": "code",
   "execution_count": 1,
   "metadata": {
    "collapsed": true,
    "ExecuteTime": {
     "end_time": "2024-12-05T12:21:10.133556800Z",
     "start_time": "2024-12-05T12:21:06.875090700Z"
    }
   },
   "outputs": [],
   "source": [
    "from data import getBreastData\n",
    "train_loader, val_loader, test_loader = getBreastData()"
   ]
  },
  {
   "cell_type": "code",
   "execution_count": 1,
   "outputs": [],
   "source": [],
   "metadata": {
    "collapsed": false,
    "ExecuteTime": {
     "end_time": "2024-12-05T12:21:10.147652400Z",
     "start_time": "2024-12-05T12:21:10.136554600Z"
    }
   }
  },
  {
   "cell_type": "code",
   "execution_count": 2,
   "outputs": [
    {
     "name": "stdout",
     "output_type": "stream",
     "text": [
      "Sequential(\n",
      "  (0): Linear(in_features=30, out_features=100, bias=True)\n",
      "  (1): ReLU()\n",
      "  (2): Linear(in_features=100, out_features=50, bias=True)\n",
      "  (3): ReLU()\n",
      "  (4): Linear(in_features=50, out_features=2, bias=True)\n",
      ")\n"
     ]
    }
   ],
   "source": [
    "from model.linear import generate_model\n",
    "model = generate_model(30,2,[100,50])\n",
    "print(model)"
   ],
   "metadata": {
    "collapsed": false,
    "ExecuteTime": {
     "end_time": "2024-12-05T12:21:10.208752700Z",
     "start_time": "2024-12-05T12:21:10.151653200Z"
    }
   }
  },
  {
   "cell_type": "code",
   "execution_count": 4,
   "outputs": [
    {
     "name": "stdout",
     "output_type": "stream",
     "text": [
      "Epoch 1/10\n",
      "------------------------------\n",
      "Train Loss: 5.4175, Train Accuracy: 0.5249\n",
      "Val Loss: 0.6048, Val Accuracy: 0.8596\n",
      "Epoch 2/10\n",
      "------------------------------\n",
      "Train Loss: 1.0036, Train Accuracy: 0.7302\n",
      "Val Loss: 0.3854, Val Accuracy: 0.8860\n",
      "Epoch 3/10\n",
      "------------------------------\n",
      "Train Loss: 0.5945, Train Accuracy: 0.8211\n",
      "Val Loss: 0.2925, Val Accuracy: 0.9123\n",
      "Epoch 4/10\n",
      "------------------------------\n",
      "Train Loss: 0.3592, Train Accuracy: 0.8856\n",
      "Val Loss: 0.2419, Val Accuracy: 0.9211\n",
      "Epoch 5/10\n",
      "------------------------------\n",
      "Train Loss: 0.3103, Train Accuracy: 0.8944\n",
      "Val Loss: 0.2474, Val Accuracy: 0.9211\n",
      "Epoch 6/10\n",
      "------------------------------\n",
      "Train Loss: 0.3210, Train Accuracy: 0.8915\n",
      "Val Loss: 0.2695, Val Accuracy: 0.9123\n",
      "Epoch 7/10\n",
      "------------------------------\n",
      "Train Loss: 0.3192, Train Accuracy: 0.8944\n",
      "Val Loss: 0.2825, Val Accuracy: 0.9123\n",
      "Epoch 8/10\n",
      "------------------------------\n"
     ]
    },
    {
     "name": "stderr",
     "output_type": "stream",
     "text": [
      "C:\\Users\\Risha\\Desktop\\XAI\\model\\training.py:84: UserWarning: To copy construct from a tensor, it is recommended to use sourceTensor.clone().detach() or sourceTensor.clone().detach().requires_grad_(True), rather than torch.tensor(sourceTensor).\n",
      "  inputs, labels = torch.tensor(inputs).to(device), torch.tensor(labels).to(device)\n"
     ]
    },
    {
     "name": "stdout",
     "output_type": "stream",
     "text": [
      "Train Loss: 0.3117, Train Accuracy: 0.8856\n",
      "Val Loss: 0.3124, Val Accuracy: 0.9035\n",
      "Epoch 9/10\n",
      "------------------------------\n",
      "Train Loss: 0.2895, Train Accuracy: 0.8974\n",
      "Val Loss: 0.3182, Val Accuracy: 0.9035\n",
      "Epoch 10/10\n",
      "------------------------------\n",
      "Train Loss: 0.2606, Train Accuracy: 0.9150\n",
      "Val Loss: 0.2956, Val Accuracy: 0.9211\n"
     ]
    }
   ],
   "source": [
    "from model.training import train_model\n",
    "\n",
    "history = train_model(model,train_loader,val_loader,'Adam','cross_entropy',device='cpu')\n"
   ],
   "metadata": {
    "collapsed": false,
    "ExecuteTime": {
     "end_time": "2024-12-05T12:21:27.674158600Z",
     "start_time": "2024-12-05T12:21:27.296122800Z"
    }
   }
  },
  {
   "cell_type": "code",
   "execution_count": null,
   "outputs": [],
   "source": [],
   "metadata": {
    "collapsed": false
   }
  },
  {
   "cell_type": "code",
   "execution_count": null,
   "outputs": [],
   "source": [
    "\n",
    "%tb"
   ],
   "metadata": {
    "collapsed": false
   }
  },
  {
   "cell_type": "code",
   "execution_count": null,
   "outputs": [],
   "source": [
    "import torch\n",
    "\n",
    "getattr(torch.optim,'Adam')(model.parameters())"
   ],
   "metadata": {
    "collapsed": false
   }
  },
  {
   "cell_type": "code",
   "execution_count": null,
   "outputs": [],
   "source": [],
   "metadata": {
    "collapsed": false
   }
  }
 ],
 "metadata": {
  "kernelspec": {
   "display_name": "Python 3",
   "language": "python",
   "name": "python3"
  },
  "language_info": {
   "codemirror_mode": {
    "name": "ipython",
    "version": 2
   },
   "file_extension": ".py",
   "mimetype": "text/x-python",
   "name": "python",
   "nbconvert_exporter": "python",
   "pygments_lexer": "ipython2",
   "version": "2.7.6"
  }
 },
 "nbformat": 4,
 "nbformat_minor": 0
}
